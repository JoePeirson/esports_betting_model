{
 "cells": [
  {
   "cell_type": "markdown",
   "metadata": {},
   "source": [
    "## Import Libraries"
   ]
  },
  {
   "cell_type": "code",
   "execution_count": 2,
   "metadata": {},
   "outputs": [],
   "source": [
    "import pandas as pd\n",
    "import numpy as np\n",
    "from datetime import datetime\n",
    "from datetime import timedelta\n",
    "from datetime import timedelta, date\n",
    "import datetime\n",
    "import warnings\n",
    "warnings.filterwarnings('ignore')\n",
    "from fuzzywuzzy import process\n",
    "from datetime import datetime, timedelta\n",
    "pd.set_option('display.max_rows', 5000)\n",
    "pd.set_option('display.max_columns', 5000)"
   ]
  },
  {
   "cell_type": "markdown",
   "metadata": {},
   "source": [
    "## Functions"
   ]
  },
  {
   "cell_type": "markdown",
   "metadata": {},
   "source": [
    "The below function selects all the matches played between two players and then takes their last 50 matches between the two players. <br>\n",
    "If there are less than 50 games played by the two opponents then the data is ignored.<br>\n",
    "The number of draws in the last 50 games is divided by the number of games, which will always be 50.<br>\n",
    "From this I can get a rough (allbeit simplistic) estimation of the % chance of a future draw, this % is then converted into betting odds."
   ]
  },
  {
   "cell_type": "code",
   "execution_count": 86,
   "metadata": {},
   "outputs": [],
   "source": [
    "def roi_check_draw(home,away,datetime):\n",
    "    select_matches = matches.loc[(((matches['h']==home) & (matches['a']==away)) \n",
    "                                | ((matches['a']==home) & (matches['h']==away)))\n",
    "                                & (matches['datetime']<datetime- timedelta(minutes=30))].tail(50)\n",
    "    if (select_matches['draw'].count()<50) or select_matches['draw'].mean()==0:\n",
    "        result = -1\n",
    "    else:\n",
    "        result = 1/select_matches['draw'].mean()\n",
    "    return round(result,2)"
   ]
  },
  {
   "cell_type": "markdown",
   "metadata": {},
   "source": [
    "The below function is used to match my odds dataset with my results dataset. <br>\n",
    "Normally I would just be able to use pd.merge using ['datetime','h','a'] as my merged columns, but unfortunately the datetimes in both datasets sometimes have a slight difference by a few minutes "
   ]
  },
  {
   "cell_type": "code",
   "execution_count": 87,
   "metadata": {},
   "outputs": [],
   "source": [
    "def match_up(home,away,datetime):\n",
    "    result = results.loc[(results['home']==home) & (results['away']==away)\n",
    "        & (results['datetime']>=datetime - timedelta(minutes=20))\n",
    "        & (results['datetime']<=datetime + timedelta(minutes=20))]['draw'].sum()\n",
    "    return result"
   ]
  },
  {
   "cell_type": "markdown",
   "metadata": {},
   "source": [
    "## Import Datasets/Data Cleaning"
   ]
  },
  {
   "cell_type": "code",
   "execution_count": 88,
   "metadata": {
    "scrolled": true
   },
   "outputs": [
    {
     "name": "stdout",
     "output_type": "stream",
     "text": [
      "2020-03-23 09:48:00\n",
      "2020-10-10 14:34:00\n"
     ]
    },
    {
     "data": {
      "text/html": [
       "<div>\n",
       "<style scoped>\n",
       "    .dataframe tbody tr th:only-of-type {\n",
       "        vertical-align: middle;\n",
       "    }\n",
       "\n",
       "    .dataframe tbody tr th {\n",
       "        vertical-align: top;\n",
       "    }\n",
       "\n",
       "    .dataframe thead th {\n",
       "        text-align: right;\n",
       "    }\n",
       "</style>\n",
       "<table border=\"1\" class=\"dataframe\">\n",
       "  <thead>\n",
       "    <tr style=\"text-align: right;\">\n",
       "      <th></th>\n",
       "      <th>datetime</th>\n",
       "      <th>home</th>\n",
       "      <th>away</th>\n",
       "      <th>score</th>\n",
       "      <th>draw</th>\n",
       "    </tr>\n",
       "  </thead>\n",
       "  <tbody>\n",
       "    <tr>\n",
       "      <th>61678</th>\n",
       "      <td>2020-03-23 09:48:00</td>\n",
       "      <td>white_boy1927</td>\n",
       "      <td>blackstar98</td>\n",
       "      <td>1-2</td>\n",
       "      <td>0</td>\n",
       "    </tr>\n",
       "    <tr>\n",
       "      <th>61677</th>\n",
       "      <td>2020-03-23 09:48:00</td>\n",
       "      <td>mooneycb</td>\n",
       "      <td>inquisitor</td>\n",
       "      <td>1-1</td>\n",
       "      <td>1</td>\n",
       "    </tr>\n",
       "    <tr>\n",
       "      <th>61676</th>\n",
       "      <td>2020-03-23 09:52:00</td>\n",
       "      <td>lomik</td>\n",
       "      <td>kravark</td>\n",
       "      <td>2-1</td>\n",
       "      <td>0</td>\n",
       "    </tr>\n",
       "    <tr>\n",
       "      <th>61675</th>\n",
       "      <td>2020-03-23 09:52:00</td>\n",
       "      <td>arcos</td>\n",
       "      <td>mr.jab</td>\n",
       "      <td>1-0</td>\n",
       "      <td>0</td>\n",
       "    </tr>\n",
       "    <tr>\n",
       "      <th>61674</th>\n",
       "      <td>2020-03-23 10:03:00</td>\n",
       "      <td>mr.jab</td>\n",
       "      <td>lomik</td>\n",
       "      <td>0-0</td>\n",
       "      <td>1</td>\n",
       "    </tr>\n",
       "  </tbody>\n",
       "</table>\n",
       "</div>"
      ],
      "text/plain": [
       "                 datetime           home         away score  draw\n",
       "61678 2020-03-23 09:48:00  white_boy1927  blackstar98   1-2     0\n",
       "61677 2020-03-23 09:48:00       mooneycb   inquisitor   1-1     1\n",
       "61676 2020-03-23 09:52:00          lomik      kravark   2-1     0\n",
       "61675 2020-03-23 09:52:00          arcos       mr.jab   1-0     0\n",
       "61674 2020-03-23 10:03:00         mr.jab        lomik   0-0     1"
      ]
     },
     "execution_count": 88,
     "metadata": {},
     "output_type": "execute_result"
    }
   ],
   "source": [
    "results = pd.read_csv('matches').iloc[:,2:].dropna()\n",
    "results['datetime'] = pd.to_datetime(results['datetime'])-timedelta(hours=1)\n",
    "# The website I scraped this data from was one hour ahead of the other website\n",
    "results['home'] = results['home'].apply(lambda x: x.lower().replace('chellovekk','chellovek'))\n",
    "results['away'] = results['away'].apply(lambda x: x.lower().replace('chellovekk','chellovek'))\n",
    "# The player who went by the above name, was sometimes spelt different ways\n",
    "results = results.drop_duplicates()\n",
    "# This ensures each match only has a single row\n",
    "results = results.loc[~((results['score'].str.contains('View')) | \n",
    "            (results['score'].str.contains('Cance'))| \n",
    "            (results['score'].str.contains('Aban')))]\n",
    "# This takes out all matches which were not played - Abandoned/Cancelled etc\n",
    "results = results.sort_values('datetime')\n",
    "results = results.loc[results['datetime']>'2020-03-23 09:40:00'].sort_values('datetime')\n",
    "# matching the dataset up with the other dataset time wise\n",
    "print(min(results['datetime']))\n",
    "print(max(results['datetime']))\n",
    "results.head()"
   ]
  },
  {
   "cell_type": "code",
   "execution_count": 101,
   "metadata": {
    "scrolled": true
   },
   "outputs": [
    {
     "name": "stdout",
     "output_type": "stream",
     "text": [
      "2020-09-05 20:24:00\n",
      "2020-10-11 23:58:00\n"
     ]
    },
    {
     "data": {
      "text/html": [
       "<div>\n",
       "<style scoped>\n",
       "    .dataframe tbody tr th:only-of-type {\n",
       "        vertical-align: middle;\n",
       "    }\n",
       "\n",
       "    .dataframe tbody tr th {\n",
       "        vertical-align: top;\n",
       "    }\n",
       "\n",
       "    .dataframe thead th {\n",
       "        text-align: right;\n",
       "    }\n",
       "</style>\n",
       "<table border=\"1\" class=\"dataframe\">\n",
       "  <thead>\n",
       "    <tr style=\"text-align: right;\">\n",
       "      <th></th>\n",
       "      <th>datetime</th>\n",
       "      <th>h</th>\n",
       "      <th>a</th>\n",
       "      <th>d_price</th>\n",
       "    </tr>\n",
       "  </thead>\n",
       "  <tbody>\n",
       "    <tr>\n",
       "      <th>24042</th>\n",
       "      <td>2020-09-05 20:24:00</td>\n",
       "      <td>vrico</td>\n",
       "      <td>skromnuy</td>\n",
       "      <td>2.80</td>\n",
       "    </tr>\n",
       "    <tr>\n",
       "      <th>24038</th>\n",
       "      <td>2020-09-06 12:12:00</td>\n",
       "      <td>foggy</td>\n",
       "      <td>bombi1t0</td>\n",
       "      <td>3.25</td>\n",
       "    </tr>\n",
       "    <tr>\n",
       "      <th>24039</th>\n",
       "      <td>2020-09-06 12:12:00</td>\n",
       "      <td>dangerdim77</td>\n",
       "      <td>slezaintima</td>\n",
       "      <td>2.30</td>\n",
       "    </tr>\n",
       "    <tr>\n",
       "      <th>24037</th>\n",
       "      <td>2020-09-06 12:24:00</td>\n",
       "      <td>rus_1995_lan</td>\n",
       "      <td>dangerdim77</td>\n",
       "      <td>2.80</td>\n",
       "    </tr>\n",
       "    <tr>\n",
       "      <th>24041</th>\n",
       "      <td>2020-09-06 12:24:00</td>\n",
       "      <td>slezaintima</td>\n",
       "      <td>foggy</td>\n",
       "      <td>2.50</td>\n",
       "    </tr>\n",
       "  </tbody>\n",
       "</table>\n",
       "</div>"
      ],
      "text/plain": [
       "                 datetime             h            a  d_price\n",
       "24042 2020-09-05 20:24:00         vrico     skromnuy     2.80\n",
       "24038 2020-09-06 12:12:00         foggy     bombi1t0     3.25\n",
       "24039 2020-09-06 12:12:00   dangerdim77  slezaintima     2.30\n",
       "24037 2020-09-06 12:24:00  rus_1995_lan  dangerdim77     2.80\n",
       "24041 2020-09-06 12:24:00   slezaintima        foggy     2.50"
      ]
     },
     "execution_count": 101,
     "metadata": {},
     "output_type": "execute_result"
    }
   ],
   "source": [
    "odds = pd.read_csv('/Users/joepeirson/Documents/Data/odds/odds/esports_odds.csv')\n",
    "odds = odds.loc[odds['tournament']=='Esoccer Battle - 8 mins play']\n",
    "#  Select only the tournament I am interetsed in analysing\n",
    "odds['h'] = odds['h'].apply(lambda x: x.lower().split('(')[1].split(')')[0])\n",
    "odds['a'] = odds['a'].apply(lambda x: x.lower().split('(')[1].split(')')[0])\n",
    "#  The dataset has the team names like this 'Man Utd (labotryas) Esports', so I split the name up so it just shows 'labotryas'\n",
    "odds = odds.loc[odds['score']==0]\n",
    "# makes sure all the rows have the score starting as a draw\n",
    "odds = odds.drop(['tournament','h_price','a_price','score'], axis=1)\n",
    "odds = odds.drop_duplicates(subset=['datetime','h','a'],keep='first')\n",
    "\n",
    "odds['datetime'] = pd.to_datetime(odds['datetime'])\n",
    "odds = odds.loc[odds['datetime']>'2020-03-23 09:40:00'].sort_values('datetime')\n",
    "# matching the dataset up with the other dataset time wise\n",
    "print(min(odds['datetime']))\n",
    "print(max(odds['datetime']))\n",
    "odds.head()"
   ]
  },
  {
   "cell_type": "code",
   "execution_count": 146,
   "metadata": {
    "scrolled": true
   },
   "outputs": [],
   "source": [
    "df = odds.loc[(odds['d_price']!=1.01) & (odds['d_price']<=3)]\n",
    "print(df.shape[0])\n",
    "df = df.sort_values('datetime')\n",
    "df['draw_proj'] = df.apply(lambda x: roi_check_draw(x['h'],x['a'],x['datetime']),axis=1)\n",
    "# df['total_games'] = df.apply(lambda x: total_games(x['h'],x['a'],x['datetime']),axis=1)\n",
    "df['roi'] = df['d_price']/df['draw_proj']-1\n",
    "# df['datetime_round'] = df['datetime'].dt.round('90min')\n",
    "df['draw_result'] = df.apply(lambda x: match_up(x['h'],x['a'],x['datetime']),axis=1)\n",
    "df['profit'] = df.apply(lambda x: x['d_price']-1 if x['draw_result']==1 else -1,axis=1)"
   ]
  },
  {
   "cell_type": "markdown",
   "metadata": {},
   "source": [
    "The functions took a few hours to run, so I run it over night and then saved it to a csv so I didn't have to do this multiple times"
   ]
  },
  {
   "cell_type": "code",
   "execution_count": 8,
   "metadata": {},
   "outputs": [
    {
     "data": {
      "text/html": [
       "<div>\n",
       "<style scoped>\n",
       "    .dataframe tbody tr th:only-of-type {\n",
       "        vertical-align: middle;\n",
       "    }\n",
       "\n",
       "    .dataframe tbody tr th {\n",
       "        vertical-align: top;\n",
       "    }\n",
       "\n",
       "    .dataframe thead th {\n",
       "        text-align: right;\n",
       "    }\n",
       "</style>\n",
       "<table border=\"1\" class=\"dataframe\">\n",
       "  <thead>\n",
       "    <tr style=\"text-align: right;\">\n",
       "      <th></th>\n",
       "      <th>datetime</th>\n",
       "      <th>match_time</th>\n",
       "      <th>h</th>\n",
       "      <th>a</th>\n",
       "      <th>draw_odds</th>\n",
       "      <th>draw_proj</th>\n",
       "      <th>roi</th>\n",
       "      <th>draw_result</th>\n",
       "      <th>profit</th>\n",
       "    </tr>\n",
       "  </thead>\n",
       "  <tbody>\n",
       "    <tr>\n",
       "      <th>47309</th>\n",
       "      <td>2020-10-08 13:52:00</td>\n",
       "      <td>00:00</td>\n",
       "      <td>dangerdim77</td>\n",
       "      <td>d1psen</td>\n",
       "      <td>2.800</td>\n",
       "      <td>2.63</td>\n",
       "      <td>0.064639</td>\n",
       "      <td>0</td>\n",
       "      <td>-1.000</td>\n",
       "    </tr>\n",
       "    <tr>\n",
       "      <th>47310</th>\n",
       "      <td>2020-10-08 13:52:00</td>\n",
       "      <td>00:00</td>\n",
       "      <td>orlovsky1</td>\n",
       "      <td>white_boy1927</td>\n",
       "      <td>2.750</td>\n",
       "      <td>3.85</td>\n",
       "      <td>-0.285714</td>\n",
       "      <td>0</td>\n",
       "      <td>-1.000</td>\n",
       "    </tr>\n",
       "    <tr>\n",
       "      <th>47311</th>\n",
       "      <td>2020-10-08 14:04:00</td>\n",
       "      <td>00:00</td>\n",
       "      <td>d1psen</td>\n",
       "      <td>orlovsky1</td>\n",
       "      <td>2.700</td>\n",
       "      <td>2.38</td>\n",
       "      <td>0.134454</td>\n",
       "      <td>0</td>\n",
       "      <td>-1.000</td>\n",
       "    </tr>\n",
       "    <tr>\n",
       "      <th>47312</th>\n",
       "      <td>2020-10-08 14:04:00</td>\n",
       "      <td>00:00</td>\n",
       "      <td>slezaintima</td>\n",
       "      <td>dangerdim77</td>\n",
       "      <td>2.250</td>\n",
       "      <td>2.50</td>\n",
       "      <td>-0.100000</td>\n",
       "      <td>0</td>\n",
       "      <td>-1.000</td>\n",
       "    </tr>\n",
       "    <tr>\n",
       "      <th>47313</th>\n",
       "      <td>2020-10-08 14:16:00</td>\n",
       "      <td>00:00</td>\n",
       "      <td>white_boy1927</td>\n",
       "      <td>d1psen</td>\n",
       "      <td>3.000</td>\n",
       "      <td>2.94</td>\n",
       "      <td>0.020408</td>\n",
       "      <td>0</td>\n",
       "      <td>-1.000</td>\n",
       "    </tr>\n",
       "    <tr>\n",
       "      <th>47314</th>\n",
       "      <td>2020-10-08 14:16:00</td>\n",
       "      <td>00:00</td>\n",
       "      <td>orlovsky1</td>\n",
       "      <td>slezaintima</td>\n",
       "      <td>2.250</td>\n",
       "      <td>2.78</td>\n",
       "      <td>-0.190647</td>\n",
       "      <td>0</td>\n",
       "      <td>-1.000</td>\n",
       "    </tr>\n",
       "    <tr>\n",
       "      <th>47315</th>\n",
       "      <td>2020-10-08 14:28:00</td>\n",
       "      <td>00:00</td>\n",
       "      <td>dangerdim77</td>\n",
       "      <td>orlovsky1</td>\n",
       "      <td>2.375</td>\n",
       "      <td>2.63</td>\n",
       "      <td>-0.096958</td>\n",
       "      <td>1</td>\n",
       "      <td>1.375</td>\n",
       "    </tr>\n",
       "    <tr>\n",
       "      <th>47316</th>\n",
       "      <td>2020-10-08 14:28:00</td>\n",
       "      <td>00:00</td>\n",
       "      <td>slezaintima</td>\n",
       "      <td>white_boy1927</td>\n",
       "      <td>2.500</td>\n",
       "      <td>3.33</td>\n",
       "      <td>-0.249249</td>\n",
       "      <td>0</td>\n",
       "      <td>-1.000</td>\n",
       "    </tr>\n",
       "    <tr>\n",
       "      <th>47317</th>\n",
       "      <td>2020-10-08 14:58:00</td>\n",
       "      <td>00:00</td>\n",
       "      <td>pablik</td>\n",
       "      <td>inquisitor</td>\n",
       "      <td>2.500</td>\n",
       "      <td>2.63</td>\n",
       "      <td>-0.049430</td>\n",
       "      <td>1</td>\n",
       "      <td>1.500</td>\n",
       "    </tr>\n",
       "    <tr>\n",
       "      <th>47318</th>\n",
       "      <td>2020-10-08 14:58:00</td>\n",
       "      <td>00:00</td>\n",
       "      <td>olle</td>\n",
       "      <td>taka</td>\n",
       "      <td>2.625</td>\n",
       "      <td>2.94</td>\n",
       "      <td>-0.107143</td>\n",
       "      <td>0</td>\n",
       "      <td>-1.000</td>\n",
       "    </tr>\n",
       "  </tbody>\n",
       "</table>\n",
       "</div>"
      ],
      "text/plain": [
       "                 datetime match_time              h              a  draw_odds  \\\n",
       "47309 2020-10-08 13:52:00      00:00    dangerdim77         d1psen      2.800   \n",
       "47310 2020-10-08 13:52:00      00:00      orlovsky1  white_boy1927      2.750   \n",
       "47311 2020-10-08 14:04:00      00:00         d1psen      orlovsky1      2.700   \n",
       "47312 2020-10-08 14:04:00      00:00    slezaintima    dangerdim77      2.250   \n",
       "47313 2020-10-08 14:16:00      00:00  white_boy1927         d1psen      3.000   \n",
       "47314 2020-10-08 14:16:00      00:00      orlovsky1    slezaintima      2.250   \n",
       "47315 2020-10-08 14:28:00      00:00    dangerdim77      orlovsky1      2.375   \n",
       "47316 2020-10-08 14:28:00      00:00    slezaintima  white_boy1927      2.500   \n",
       "47317 2020-10-08 14:58:00      00:00         pablik     inquisitor      2.500   \n",
       "47318 2020-10-08 14:58:00      00:00           olle           taka      2.625   \n",
       "\n",
       "       draw_proj       roi  draw_result  profit  \n",
       "47309       2.63  0.064639            0  -1.000  \n",
       "47310       3.85 -0.285714            0  -1.000  \n",
       "47311       2.38  0.134454            0  -1.000  \n",
       "47312       2.50 -0.100000            0  -1.000  \n",
       "47313       2.94  0.020408            0  -1.000  \n",
       "47314       2.78 -0.190647            0  -1.000  \n",
       "47315       2.63 -0.096958            1   1.375  \n",
       "47316       3.33 -0.249249            0  -1.000  \n",
       "47317       2.63 -0.049430            1   1.500  \n",
       "47318       2.94 -0.107143            0  -1.000  "
      ]
     },
     "execution_count": 8,
     "metadata": {},
     "output_type": "execute_result"
    }
   ],
   "source": [
    "# data.to_csv('analysis_last_50_games')\n",
    "# data.to_csv('analysis_last_50_games', mode='a', header=False)\n",
    "df = pd.read_csv('analysis_last_50_games').iloc[:,1:]\n",
    "df['datetime'] = pd.to_datetime(df['datetime'])\n",
    "df.tail(10)"
   ]
  },
  {
   "cell_type": "markdown",
   "metadata": {},
   "source": [
    "# Data Analysis\n",
    "I now had the data nicely formatted. I had the date, the home and away team. Then the draw price vs my draw projection, with the projected roi. Finally, I had the draw result and the profit/loss from this, which meant I could easily back test. <br>\n",
    "I started by subsetting the data into just the rows that showed a ROI above a certain %. <br>\n",
    "As you can see the results are very good. As my projected roi increases, the actual roi increase at a very similar rate. This is also visualized in thr graph below."
   ]
  },
  {
   "cell_type": "code",
   "execution_count": 144,
   "metadata": {},
   "outputs": [
    {
     "name": "stdout",
     "output_type": "stream",
     "text": [
      "all bets over 0.1 my roi: 0.06 bets: 7862 sum: 474.57\n",
      "all bets over 0.2 my roi: 0.12 bets: 4148 sum: 490.82\n",
      "all bets over 0.3 my roi: 0.15 bets: 2101 sum: 319.5\n",
      "all bets over 0.4 my roi: 0.26 bets: 834 sum: 214.6\n",
      "all bets over 0.5 my roi: 0.39 bets: 378 sum: 148.82\n",
      "all bets over 0.6 my roi: 0.48 bets: 209 sum: 100.12\n",
      "all bets over 0.7 my roi: 0.63 bets: 108 sum: 67.85\n",
      "all bets over 0.8 my roi: 0.99 bets: 55 sum: 54.52\n",
      "all bets over 0.9 my roi: 1.01 bets: 38 sum: 38.2\n"
     ]
    }
   ],
   "source": [
    "my_proj_roi = []\n",
    "actual_roi = []\n",
    "for x in range(1,10):\n",
    "    over_this_roi = x/10\n",
    "    df1 = df.loc[(df['roi']>over_this_roi)]\n",
    "    print('all bets over',over_this_roi,'my roi:',round(df1['profit'].mean(),2),\n",
    "          'bets:',df1['profit'].count(),\n",
    "          'sum:',round(df1['profit'].sum(),2))\n",
    "for x in range(1,100):\n",
    "    proj_roi = x/100\n",
    "    my_proj_roi.append(proj_roi)\n",
    "    roi = round(df.loc[(df['roi']>=proj_roi)]['profit'].mean(),3)\n",
    "    actual_roi.append(roi)"
   ]
  },
  {
   "cell_type": "code",
   "execution_count": 143,
   "metadata": {},
   "outputs": [
    {
     "data": {
      "text/plain": [
       "<seaborn.axisgrid.JointGrid at 0x7f843becc8b0>"
      ]
     },
     "execution_count": 143,
     "metadata": {},
     "output_type": "execute_result"
    },
    {
     "data": {
      "image/png": "[encoded data removed]",
      "text/plain": [
       "<Figure size 432x432 with 3 Axes>"
      ]
     },
     "metadata": {
      "needs_background": "light"
     },
     "output_type": "display_data"
    }
   ],
   "source": [
    "import seaborn as sns\n",
    "data_viz = sns.jointplot(x = my_proj_roi, y = actual_roi, color = 'g')\n",
    "data_viz.set_axis_labels('my_proj', 'actual_proj')"
   ]
  },
  {
   "cell_type": "markdown",
   "metadata": {},
   "source": [
    "# Conclusions\n",
    "From fairly simple analysis, it is clear it is very profitable to back draws in esports matches, when looking at certain players previous matches against each other. <br>\n",
    "This shows that simplistic analysis can be very benefitcal when you make sure are answering your chosen question directly and the analysis mimics the real world. <br>\n",
    "I carried out this analysis after a few months of betting on esports, and was able to generate fast profits making over five figures in the first month."
   ]
  },
  {
   "cell_type": "code",
   "execution_count": null,
   "metadata": {},
   "outputs": [],
   "source": []
  }
 ],
 "metadata": {
  "kernelspec": {
   "display_name": "Python 3",
   "language": "python",
   "name": "python3"
  },
  "language_info": {
   "codemirror_mode": {
    "name": "ipython",
    "version": 3
   },
   "file_extension": ".py",
   "mimetype": "text/x-python",
   "name": "python",
   "nbconvert_exporter": "python",
   "pygments_lexer": "ipython3",
   "version": "3.8.3"
  }
 },
 "nbformat": 4,
 "nbformat_minor": 2
}
